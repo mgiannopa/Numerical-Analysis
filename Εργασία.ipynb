{
 "cells": [
  {
   "cell_type": "markdown",
   "id": "94a825b2",
   "metadata": {},
   "source": [
    "Εργασία των Γιαννόπαπα Ματθαίου (ΑΕΜ 10542) Μαλιαχόβα Μαρία (10576)\n",
    "\n",
    "Τα πακέτα που χρησιμοποιήθηκαν"
   ]
  },
  {
   "cell_type": "code",
   "execution_count": 1,
   "id": "f55f4e4a",
   "metadata": {},
   "outputs": [],
   "source": [
    "from scipy.optimize import least_squares \n",
    "import math\n",
    "import numpy as np "
   ]
  },
  {
   "cell_type": "markdown",
   "id": "8948c392",
   "metadata": {},
   "source": [
    "Τα δωσμένα δεδομένα ύποπτα κρούσματα(Υ), επιβεβαιωμένα κρούσματα (Ε) και από το μοντέλο SIR (από την σχετική βιβλιογραφία στο eLEearning) θα προκύψουν τα τελικα κρούσματα (Τ) με Ε(t) + Y(t)+ T(t)=249(initial day)"
   ]
  },
  {
   "cell_type": "code",
   "execution_count": 2,
   "id": "323033a2",
   "metadata": {},
   "outputs": [],
   "source": [
    "Υ = [235,201,153,121,108,97,83] #Suspected\n",
    "E = [14,22,29,21,8,8,0] #Infected \n",
    "T = [0,26,67,107,133,144,166] #Removed\n",
    "GivenDays = [0, 16, 31, 47, 62, 78 , 109]#Days with given data"
   ]
  },
  {
   "cell_type": "markdown",
   "id": "a54824fb",
   "metadata": {},
   "source": [
    "Οι διαφορικές του προβλήματος"
   ]
  },
  {
   "cell_type": "code",
   "execution_count": 3,
   "id": "1963bbd1",
   "metadata": {},
   "outputs": [],
   "source": [
    "def f(a, y, e):#dYdt\n",
    "    return -a * e * y\n",
    "\n",
    "def g(a, b, y, e):#dEdt\n",
    "    return a * y * e - b* e\n",
    "\n",
    "def l(b,e):#dTdt\n",
    "    return b * e"
   ]
  },
  {
   "cell_type": "markdown",
   "id": "8d0c8546",
   "metadata": {},
   "source": [
    "Αρχικές συνθήκες του προβλήματος"
   ]
  },
  {
   "cell_type": "code",
   "execution_count": 4,
   "id": "35b8283b",
   "metadata": {},
   "outputs": [],
   "source": [
    "t0 = 0 #First Day\n",
    "y = 235 \n",
    "e = 14 \n",
    "t = 109 #Last Day\n",
    "h = 1 #Step of the R-K function "
   ]
  },
  {
   "cell_type": "markdown",
   "id": "2d5b78d7",
   "metadata": {},
   "source": [
    "Runge-Kutta 4ης τάξης για για σύστημα εξισώσεων (χρήση πρόσθετης βιβλιογραφίας).Μέσα απο την μέθοδο θα υπολογίσουμε τα κρούσματα (ύποπτων και επιβεβαιωμένων)."
   ]
  },
  {
   "cell_type": "code",
   "execution_count": 5,
   "id": "86f789f1",
   "metadata": {},
   "outputs": [],
   "source": [
    "y_array = []  # New array used and called in the method\n",
    "e_array = []  # New array used and called in the method\n",
    "\n",
    "def R_K(f, g, y, e, t0, t, h, a, b, y_array, e_array):\n",
    "\n",
    "    n = round((t - t0) / h)\n",
    "\n",
    "    y_array.append(y)\n",
    "    e_array.append(e)\n",
    "\n",
    "    for i in range(1, n + 1):\n",
    "        # Apply Runge Kutta Formulas\n",
    "        # to find next value of y,e\n",
    "        k1 = h * f(a, y, e)\n",
    "        m1 = h * g(a, b, y, e)\n",
    "        k2 = h * f(a, y + 0.5 * k1, e + 0.5 * m1)\n",
    "        m2 = h * g(a, b, y + 0.5 * k1, e + 0.5 * m1)\n",
    "        k3 = h * f(a, y + 0.5 * k2, e + 0.5 * m2)\n",
    "        m3 = h * g(a, b, y + 0.5 * k2, e + 0.5 * m2)\n",
    "        k4 = h * f(a, y + k3, e + m3)\n",
    "        m4 = h * g(a, b, y + k3, e + m3)\n",
    "\n",
    "        y = y + (1 / 6) * (k1 + 2 * k2 + 2 * k3 + k4)\n",
    "        e = e + (1 / 6) * (m1 + 2 * m2 + 2 * m3 + m4)\n",
    "\n",
    "        y_array.append(y)\n",
    "        e_array.append(e)\n",
    "\n",
    "        t0 = t0 + h\n",
    "\n",
    "    return y\n"
   ]
  },
  {
   "cell_type": "markdown",
   "id": "59470086",
   "metadata": {},
   "source": [
    "Παρακάτω ορίζουμε 2 συναρτήσεις για την προσέγγιση των κρουσμάτων και την ελαχιστοποίηση του σφάλματος."
   ]
  },
  {
   "cell_type": "code",
   "execution_count": 6,
   "id": "31c17a48",
   "metadata": {},
   "outputs": [],
   "source": [
    "def func(a, b, t):\n",
    "    return R_K(f, g, y, e, t0, t, h, a, b, y_array, e_array)\n",
    "\n",
    "def func2(k):\n",
    "    return np.array([(201 - func(k[0], k[1], 16)), (153 - func(k[0], k[1], 31)), (121 - func(k[0], k[1], 47)), (108 - func(k[0], k[1], 62)), (97 - func(k[0], k[1], 78)), (83 - func(k[0], k[1], 109))])"
   ]
  },
  {
   "cell_type": "markdown",
   "id": "efd538a5",
   "metadata": {},
   "source": [
    "Τέλος η κλήση τις least_squares για την εύρεση των βέλτιστων παραμέτρων.  Η αρχικοποίηση τους στις παρακάτω τιμές κρίθηκε η καλύτερη μετά απο την παρότρυνση σας για trial and error. "
   ]
  },
  {
   "cell_type": "code",
   "execution_count": 7,
   "id": "3b442963",
   "metadata": {
    "scrolled": true
   },
   "outputs": [
    {
     "name": "stdout",
     "output_type": "stream",
     "text": [
      "a = 0.0005814428797066509 b = 0.09298435863815369\n"
     ]
    }
   ],
   "source": [
    "x1 = np.array([0.00047, 0.0001])\n",
    "res = least_squares(func2, x1)\n",
    "print(\"a = \"+ str(res.x[0]),\"b = \"+ str(res.x[1]))"
   ]
  }
 ],
 "metadata": {
  "kernelspec": {
   "display_name": "Python 3 (ipykernel)",
   "language": "python",
   "name": "python3"
  },
  "language_info": {
   "codemirror_mode": {
    "name": "ipython",
    "version": 3
   },
   "file_extension": ".py",
   "mimetype": "text/x-python",
   "name": "python",
   "nbconvert_exporter": "python",
   "pygments_lexer": "ipython3",
   "version": "3.9.12"
  }
 },
 "nbformat": 4,
 "nbformat_minor": 5
}
